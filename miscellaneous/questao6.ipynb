{
 "cells": [
  {
   "cell_type": "markdown",
   "metadata": {},
   "source": [
    "# Questão 6\n",
    "### Autor: Luís Fernando Garcia Jales\n",
    "\n",
    "Dado $A$ uma lista ordenada de inteiros que sofreu rotação e dado $s$ um número inteiro,\n",
    "construa um algoritmo que receba $A$ e $s$ como entrada e retorne um par\n",
    "$\\{a_1, a_2\\} \\subseteq A$ tal que $a_1 + a_2 = s$ caso exista, ou ```false``` caso não exista.\n",
    "\n",
    "O algoritmo deveráa ter complexidade de tempo $O(n)$, onde $n = \\#A$."
   ]
  },
  {
   "cell_type": "code",
   "execution_count": 42,
   "metadata": {},
   "outputs": [],
   "source": [
    "def algo6(A, s):\n",
    "\tif len(A) <= 1:\n",
    "\t\treturn False\n",
    "\tm = 0\n",
    "\tfor i in range(len(A)):\n",
    "\t\tif A[i] < A[m]:\n",
    "\t\t\tm = i\n",
    "\tl = 0\n",
    "\tr = len(A) - 1\n",
    "\twhile l <= r:\n",
    "\t\taL = A[(l + m) % len(A)]\n",
    "\t\taR = A[(r + m) % len(A)]\n",
    "\t\tif aL + aR < s:\n",
    "\t\t\tl += 1\n",
    "\t\telif s < aL + aR:\n",
    "\t\t\tr -= 1\n",
    "\t\telse:\n",
    "\t\t\treturn (aL, aR)\n",
    "\treturn False"
   ]
  },
  {
   "cell_type": "code",
   "execution_count": 46,
   "metadata": {},
   "outputs": [
    {
     "name": "stdout",
     "output_type": "stream",
     "text": [
      "(3, 15)\n"
     ]
    }
   ],
   "source": [
    "A = [10, 11, 13, 15, 3, 6, 8, 9]\n",
    "s = 18\n",
    "print(algo6(A, s))"
   ]
  },
  {
   "cell_type": "markdown",
   "metadata": {},
   "source": [
    "# Complexidade algorítmica\n",
    "\n",
    "##### Tempo: O(n)\n",
    "\tif len(A) <= 1:\n",
    "\t\treturn False\n",
    "\tm = 0\n",
    "\n",
    "O(1)\n",
    "\n",
    "\tfor i in range(len(A)):\n",
    "\t\tif A[i] < A[m]:\n",
    "\t\t\tm = i\n",
    "\n",
    "O(n)\n",
    "\n",
    "\tl = 0\n",
    "\tr = len(A) - 1\n",
    "\n",
    "O(1)\n",
    "\n",
    "\twhile l <= r:\n",
    "\t\taL = A[(l + m) % len(A)]\n",
    "\t\taR = A[(r + m) % len(A)]\n",
    "\t\tif aL + aR < s:\n",
    "\t\t\tl += 1\n",
    "\t\telif s < aL + aR:\n",
    "\t\t\tr -= 1\n",
    "\t\telse:\n",
    "\t\t\treturn (aL, aR)\n",
    "\n",
    "O(n)\n",
    "\n",
    "Total: O(n)\n",
    "\n",
    "##### Espaço: O(1)\n",
    "\n",
    "Todas as variáveis criadas são do tipo inteiro"
   ]
  },
  {
   "cell_type": "markdown",
   "metadata": {},
   "source": [
    "# Corretude\n",
    "\n",
    "Suponha que $a_i + a_j = s$ onde $i \\leq j$, queremos provar que $l \\leq i, j \\leq r$ durante todo o algoritmo.\n",
    "\n",
    "##### Caso 1: $l < i$ e $j < r$.\n",
    "\n",
    "Nesse caso, podemos incrementar $l$ ou decrementar $r$ que $l \\leq i, j \\leq r$ continua satisfeita.\n",
    "\n",
    "##### Caso 2: $l = i$ e $j < r$\n",
    "\n",
    "Como a lista é ordenada, então:\n",
    "$$a_j < a_r$$\n",
    "somando ambos os lados por $a_l$:\n",
    "$$a_l + a_j < a_l + a_r$$\n",
    "$$a_i + a_j < a_l + a_r$$\n",
    "$$s < a_l + a_r.$$\n",
    "\n",
    "Portanto, o algoritmo irá decrementar $r$ e $l \\leq i, j \\leq r$ continuará satisfeita.\n",
    "\n",
    "##### Caso 3: $l < i$ e $j = r$\n",
    "\n",
    "Como a lista é ordenada, então:\n",
    "$$a_l < a_i$$\n",
    "somando ambos os lados por $a_r$:\n",
    "$$a_l + a_r < a_i + a_r$$\n",
    "$$a_l + a_r < a_i + a_j$$\n",
    "$$a_l + a_r < s.$$\n",
    "\n",
    "Portanto, o algoritmo irá incrementar $l$ e $l \\leq i, j \\leq r$ continuará satisfeita.\n",
    "\n",
    "##### Caso 4: $l = i$ e $j = r$\n",
    "\n",
    "$l \\leq i, j \\leq r$ continua satisfeita e o algoritmo retorna $(a_l, a_r) = (a_i, a_j)$ corretamente.\n",
    "\n",
    "### Caso onde não existe solução:\n",
    "\n",
    "O algoritmo não vai conseguir buscar e, como o algoritmo sempre termina, retornará `false`."
   ]
  }
 ],
 "metadata": {
  "kernelspec": {
   "display_name": "Python 3",
   "language": "python",
   "name": "python3"
  },
  "language_info": {
   "codemirror_mode": {
    "name": "ipython",
    "version": 3
   },
   "file_extension": ".py",
   "mimetype": "text/x-python",
   "name": "python",
   "nbconvert_exporter": "python",
   "pygments_lexer": "ipython3",
   "version": "3.12.2"
  }
 },
 "nbformat": 4,
 "nbformat_minor": 2
}
